{
 "cells": [
  {
   "cell_type": "markdown",
   "metadata": {},
   "source": [
    "##Question 1:"
   ]
  },
  {
   "cell_type": "markdown",
   "metadata": {},
   "source": [
    "To start with, we'll need to compute the number of rentals per station per day. Use pandas to do that.\n"
   ]
  },
  {
   "cell_type": "code",
   "execution_count": 44,
   "metadata": {
    "collapsed": false
   },
   "outputs": [],
   "source": [
    "import pandas as pd\n",
    "import numpy as np\n",
    "import matplotlib as plt\n",
    "%matplotlib inline\n",
    "import datetime\n",
    "from pandas import DataFrame"
   ]
  },
  {
   "cell_type": "code",
   "execution_count": 2,
   "metadata": {
    "collapsed": true
   },
   "outputs": [],
   "source": [
    "stations = pd.read_table('stations.tsv')"
   ]
  },
  {
   "cell_type": "code",
   "execution_count": 3,
   "metadata": {
    "collapsed": false
   },
   "outputs": [],
   "source": [
    "usage = pd.read_table('usage_2012.tsv')"
   ]
  },
  {
   "cell_type": "code",
   "execution_count": 4,
   "metadata": {
    "collapsed": true
   },
   "outputs": [],
   "source": [
    "usage['time_start'] = pd.to_datetime(usage['time_start'])"
   ]
  },
  {
   "cell_type": "code",
   "execution_count": 5,
   "metadata": {
    "collapsed": true
   },
   "outputs": [],
   "source": [
    "usage_per_day = usage.set_index('time_start').groupby(pd.TimeGrouper('D')).size()"
   ]
  },
  {
   "cell_type": "code",
   "execution_count": 6,
   "metadata": {
    "collapsed": false
   },
   "outputs": [],
   "source": [
    "usage_per_station = usage[['station_start']].groupby('station_start').size()"
   ]
  },
  {
   "cell_type": "code",
   "execution_count": 9,
   "metadata": {
    "collapsed": false
   },
   "outputs": [],
   "source": [
    "usage_per_station_per_day = usage.groupby(['date', 'station_start']).size()"
   ]
  },
  {
   "cell_type": "markdown",
   "metadata": {},
   "source": []
  },
  {
   "cell_type": "markdown",
   "metadata": {},
   "source": []
  },
  {
   "cell_type": "code",
   "execution_count": null,
   "metadata": {
    "collapsed": false
   },
   "outputs": [],
   "source": []
  },
  {
   "cell_type": "code",
   "execution_count": 7,
   "metadata": {
    "collapsed": false
   },
   "outputs": [],
   "source": [
    "def to_date(x):\n",
    "    return str(x.month) + '/' + str(x.day) + '/' + str(x.year)"
   ]
  },
  {
   "cell_type": "code",
   "execution_count": 8,
   "metadata": {
    "collapsed": false
   },
   "outputs": [],
   "source": [
    "usage['date'] = usage['time_start'].apply(to_date)"
   ]
  },
  {
   "cell_type": "code",
   "execution_count": null,
   "metadata": {
    "collapsed": false
   },
   "outputs": [],
   "source": []
  },
  {
   "cell_type": "code",
   "execution_count": 10,
   "metadata": {
    "collapsed": true
   },
   "outputs": [],
   "source": [
    "usage_per_station_per_day = usage.groupby(['date', 'station_start']).size()"
   ]
  },
  {
   "cell_type": "code",
   "execution_count": 38,
   "metadata": {
    "collapsed": false
   },
   "outputs": [
    {
     "data": {
      "text/plain": [
       "date      station_start                                   \n",
       "1/1/2012  10th & Monroe St NE                                  10\n",
       "          10th & U St NW                                       58\n",
       "          10th St & Constitution Ave NW                        54\n",
       "          11th & H St NE                                       20\n",
       "          11th & Kenyon St NW                                  58\n",
       "          12th & Army Navy Dr                                  12\n",
       "          12th & Newton St NE                                   2\n",
       "          13th & D St NE                                       46\n",
       "          13th & H St NE                                       50\n",
       "          13th St & New York Ave NW                            10\n",
       "          14th & D St NW / Ronald Reagan Building              26\n",
       "          14th & D St SE                                       32\n",
       "          14th & G St NW                                       16\n",
       "          14th & Harvard St NW                                 80\n",
       "          14th & R St NW                                       58\n",
       "          14th & Rhode Island Ave NW                           96\n",
       "          14th & V St NW                                      108\n",
       "          14th St & Spring Rd NW                               44\n",
       "          14th St Heights / 14th & Crittenden St NW            26\n",
       "          15th & Crystal Dr                                    16\n",
       "          15th & P St NW                                      104\n",
       "          15th St & Massachusetts Ave SE                       30\n",
       "          16th & Harvard St NW                                 84\n",
       "          17th & Corcoran St NW                               120\n",
       "          17th & K St NW                                       22\n",
       "          17th & K St NW / Farragut Square                      6\n",
       "          17th & Rhode Island Ave NW                           16\n",
       "          18th & M St NW                                       50\n",
       "          18th St & Pennsylvania Ave NW                        10\n",
       "          19th & E Street NW                                   14\n",
       "                                                             ... \n",
       "9/9/2012  N Veitch  & 20th St N                                12\n",
       "          N Veitch & Key Blvd                                  11\n",
       "          New Hampshire Ave & T St NW                         182\n",
       "          New York Ave & 15th St NW                            81\n",
       "          North Capitol St & F St NW                           62\n",
       "          Ohio Dr & West Basin Dr SW / MLK & FDR Memorials    112\n",
       "          Park Rd & Holmead Pl NW                             109\n",
       "          Pennsylvania & Minnesota Ave SE                       3\n",
       "          Pentagon City Metro / 12th & S Hayes St              10\n",
       "          Potomac & Pennsylvania Ave SE                        56\n",
       "          Prince St & Union St                                 17\n",
       "          Randle Circle & Minnesota Ave SE                      2\n",
       "          Rosslyn Metro / Wilson Blvd & Ft Myer Dr             34\n",
       "          S Glebe & Potomac Ave                                18\n",
       "          S Joyce & Army Navy Dr                               13\n",
       "          Saint Asaph St & Pendleton  St                        9\n",
       "          Smithsonian / Jefferson Dr & 12th St SW             112\n",
       "          Tenleytown / Wisconsin Ave & Albemarle St NW         30\n",
       "          Thomas Circle                                       132\n",
       "          US Dept of State / Virginia Ave & 21st St NW         45\n",
       "          USDA / 12th & Independence Ave SW                    44\n",
       "          Utah St & 11th St N                                   7\n",
       "          Van Ness Metro / UDC                                 30\n",
       "          Virginia Square Metro / N Monroe St & 9th St N       20\n",
       "          Ward Circle / American University                    23\n",
       "          Washington Blvd & 10th St N                           5\n",
       "          Washington Blvd & 7th St N                            2\n",
       "          Wilson Blvd & Franklin Rd                            14\n",
       "          Wilson Blvd & N Edgewood St                          22\n",
       "          Wilson Blvd & N Oakland St                            6\n",
       "dtype: int64"
      ]
     },
     "execution_count": 38,
     "metadata": {},
     "output_type": "execute_result"
    }
   ],
   "source": [
    "usage_per_station_per_day"
   ]
  },
  {
   "cell_type": "markdown",
   "metadata": {},
   "source": [
    "we have grouped our data by day then station and the size gives us the users in that day"
   ]
  },
  {
   "cell_type": "markdown",
   "metadata": {},
   "source": [
    "2a. Our stations data has a huge number of quantitative attributes: fast_food, parking, restaurant, etc... Some of them are encoded as 0 or 1 (for absence or presence), others represent counts. To start with, run a simple linear regression where the input (x) variables are all the various station attributes and the output (y) variable is the average number of rentals per day."
   ]
  },
  {
   "cell_type": "code",
   "execution_count": 11,
   "metadata": {
    "collapsed": false
   },
   "outputs": [],
   "source": [
    "rentals_per_station = usage[['station_start']].groupby('station_start').size()"
   ]
  },
  {
   "cell_type": "code",
   "execution_count": 12,
   "metadata": {
    "collapsed": true
   },
   "outputs": [],
   "source": [
    "def get_average(x):\n",
    "    return x/366\n",
    "daily_rentals = rentals_per_station.apply(get_average)"
   ]
  },
  {
   "cell_type": "code",
   "execution_count": 16,
   "metadata": {
    "collapsed": false
   },
   "outputs": [
    {
     "data": {
      "text/plain": [
       "station_start\n",
       "10th & E St NW                   17\n",
       "10th & Monroe St NE              10\n",
       "10th & U St NW                   71\n",
       "10th St & Constitution Ave NW    55\n",
       "11th & H St NE                   35\n",
       "dtype: int64"
      ]
     },
     "execution_count": 16,
     "metadata": {},
     "output_type": "execute_result"
    }
   ],
   "source": [
    "daily_rentals.head()"
   ]
  },
  {
   "cell_type": "code",
   "execution_count": 13,
   "metadata": {
    "collapsed": true
   },
   "outputs": [],
   "source": [
    "from sklearn.linear_model import LinearRegression"
   ]
  },
  {
   "cell_type": "code",
   "execution_count": 17,
   "metadata": {
    "collapsed": true
   },
   "outputs": [],
   "source": [
    "c = DataFrame(daily_rentals.index, columns=['station'])"
   ]
  },
  {
   "cell_type": "code",
   "execution_count": 18,
   "metadata": {
    "collapsed": false
   },
   "outputs": [],
   "source": [
    "c['daily_rentals'] = daily_rentals.values"
   ]
  },
  {
   "cell_type": "code",
   "execution_count": 19,
   "metadata": {
    "collapsed": true
   },
   "outputs": [],
   "source": [
    "c['station'] = daily_rentals.index"
   ]
  },
  {
   "cell_type": "code",
   "execution_count": 22,
   "metadata": {
    "collapsed": false
   },
   "outputs": [],
   "source": [
    "merged = pd.merge(left=c, right=stations, left_on='station', right_on='station')"
   ]
  },
  {
   "cell_type": "code",
   "execution_count": 28,
   "metadata": {
    "collapsed": false
   },
   "outputs": [],
   "source": [
    "x = merged[list(merged.columns.values[8:])]"
   ]
  },
  {
   "cell_type": "code",
   "execution_count": 37,
   "metadata": {
    "collapsed": false
   },
   "outputs": [],
   "source": [
    "y = merged[list(merged.columns.values[1:2])]"
   ]
  },
  {
   "cell_type": "code",
   "execution_count": 39,
   "metadata": {
    "collapsed": false
   },
   "outputs": [],
   "source": [
    "model = LinearRegression()"
   ]
  },
  {
   "cell_type": "code",
   "execution_count": 40,
   "metadata": {
    "collapsed": false
   },
   "outputs": [
    {
     "data": {
      "text/plain": [
       "LinearRegression(copy_X=True, fit_intercept=True, n_jobs=1, normalize=False)"
      ]
     },
     "execution_count": 40,
     "metadata": {},
     "output_type": "execute_result"
    }
   ],
   "source": [
    "model.fit(x,y)"
   ]
  },
  {
   "cell_type": "code",
   "execution_count": 46,
   "metadata": {
    "collapsed": false
   },
   "outputs": [],
   "source": [
    "import matplotlib.pyplot as plt"
   ]
  },
  {
   "cell_type": "code",
   "execution_count": 47,
   "metadata": {
    "collapsed": false
   },
   "outputs": [
    {
     "data": {
      "text/plain": [
       "<matplotlib.collections.PathCollection at 0x7f4a9f940b90>"
      ]
     },
     "execution_count": 47,
     "metadata": {},
     "output_type": "execute_result"
    },
    {
     "data": {
      "image/png": "[encoded data removed]",
      "text/plain": [
       "<matplotlib.figure.Figure at 0x7f4a9fa5bbd0>"
      ]
     },
     "metadata": {},
     "output_type": "display_data"
    }
   ],
   "source": [
    "plt.scatter(y, model.predict(x))"
   ]
  },
  {
   "cell_type": "markdown",
   "metadata": {},
   "source": [
    "ta da!  'simple' linear regression"
   ]
  },
  {
   "cell_type": "markdown",
   "metadata": {},
   "source": [
    "###2b.  plot the predicted values against the acutal values and see how they compare\n",
    "look up!"
   ]
  },
  {
   "cell_type": "code",
   "execution_count": 48,
   "metadata": {
    "collapsed": false
   },
   "outputs": [
    {
     "data": {
      "text/plain": [
       "array([[  2.78448805e+00,  -8.96284685e-01,   3.48332241e-01,\n",
       "         -5.89647316e+01,  -2.93308376e+00,  -4.89615252e+00,\n",
       "          5.76436592e+00,   1.98359974e+00,   2.14006736e-01,\n",
       "         -1.18564343e+14,   1.36896677e+00,   4.89682200e+01,\n",
       "          5.62813575e+00,   1.99629608e+14,   3.64237392e+13,\n",
       "          5.95495618e+00,   6.22769769e+13,   6.72915022e+00,\n",
       "          1.44982096e+01,  -2.57161962e+00,   3.35509042e+00,\n",
       "         -4.44925024e+01,   2.37309802e+01,  -4.33059372e+01,\n",
       "         -1.26353387e+01,   6.20839429e+13,  -1.91838154e+00,\n",
       "          4.21211901e+00,  -2.71115165e+00,   7.15213527e+00,\n",
       "         -6.20839429e+13,   3.85175337e+00,   1.32855030e+00,\n",
       "          1.04971899e+01,   4.53976633e+00,   1.79872593e+00,\n",
       "         -3.71879898e+01,  -1.72464217e+01,   4.31224818e+00,\n",
       "         -3.03236952e+00,   1.01498357e+01,   4.82067870e-01,\n",
       "          1.48624297e+02,  -7.81908566e+00,  -1.16338957e+01,\n",
       "          1.80819476e+02,  -1.49949384e+00,   1.76919576e+00,\n",
       "         -5.76846275e+00,  -9.24277081e+00,   6.81348296e+01,\n",
       "          1.72979267e+01,  -9.72245081e+00,  -2.50594592e+01,\n",
       "          3.95653277e+01,   5.12474836e+00,   2.78329736e+01,\n",
       "          7.02065843e+01,   1.04530233e+01,   1.32678991e+01,\n",
       "          1.23786138e+01,  -9.32200245e+00,  -3.67454760e+00,\n",
       "         -3.91116320e-02,  -1.56348989e+01,   1.66189638e+01,\n",
       "         -3.17691562e+01,  -1.29090695e+01,  -1.37232270e+01,\n",
       "         -2.25624612e+01,   3.65558550e+01,  -7.38015751e+01,\n",
       "         -2.73847473e+01,  -4.13857636e+01,  -5.52248333e+10,\n",
       "          6.24411146e+10,  -7.21628123e+09,   1.10449667e+11,\n",
       "          1.89393125e+01,   4.08796137e+10,   1.43452196e+10,\n",
       "          1.05826795e+02,  -6.81923517e+10,  -8.58530090e+00,\n",
       "          4.13821613e+00,   9.74610290e+09,  -9.74610291e+09,\n",
       "         -1.90603448e+01,   2.45551779e+10,   9.37395170e+10,\n",
       "          2.54418485e+01,   5.37074298e+10,   1.81656084e+01,\n",
       "         -5.98864791e+01,   1.11410426e+11,   6.03521533e+10,\n",
       "          5.90261495e+10,  -1.03395178e+10,   1.80909484e+10,\n",
       "         -2.91698849e+09,   2.76220177e+10,  -1.02376858e+10,\n",
       "          4.45018998e-03,   3.83557967e-01,  -5.10081780e-01,\n",
       "          4.64668940e-02,   3.93259463e+01,  -1.42679119e-03,\n",
       "         -6.46511560e-01,  -2.44649740e+00,   7.24611091e+01,\n",
       "          1.32148061e+01,  -2.99867407e+01,  -8.54435543e+00,\n",
       "          1.31721197e+01,   0.00000000e+00,   4.56659222e+00,\n",
       "         -6.00832897e-01,   1.59748129e+00,  -5.45137316e+00,\n",
       "         -1.44196405e+00,  -8.57408958e+01,   9.82814849e-01,\n",
       "         -5.22545554e+01,  -2.53041259e+00,  -9.03634894e+00,\n",
       "         -1.31918128e+01,  -3.17449108e+01,  -1.42893445e+00]])"
      ]
     },
     "execution_count": 48,
     "metadata": {},
     "output_type": "execute_result"
    }
   ],
   "source": [
    "model.coef_"
   ]
  },
  {
   "cell_type": "markdown",
   "metadata": {},
   "source": [
    "###2c.  look at the model coefficients and see whether anything is odd\n",
    "we think it's odd that some of these numbers are very large and some are very small"
   ]
  },
  {
   "cell_type": "markdown",
   "metadata": {},
   "source": [
    "###2d.  go back and split the data between a training set and a test set"
   ]
  },
  {
   "cell_type": "code",
   "execution_count": 50,
   "metadata": {
    "collapsed": false
   },
   "outputs": [],
   "source": [
    "from sklearn.linear_model import Lasso"
   ]
  },
  {
   "cell_type": "code",
   "execution_count": 61,
   "metadata": {
    "collapsed": true
   },
   "outputs": [],
   "source": [
    "model = Lasso(alpha=0.15)"
   ]
  },
  {
   "cell_type": "code",
   "execution_count": 62,
   "metadata": {
    "collapsed": false
   },
   "outputs": [
    {
     "data": {
      "text/plain": [
       "Lasso(alpha=0.15, copy_X=True, fit_intercept=True, max_iter=1000,\n",
       "   normalize=False, positive=False, precompute=False, random_state=None,\n",
       "   selection='cyclic', tol=0.0001, warm_start=False)"
      ]
     },
     "execution_count": 62,
     "metadata": {},
     "output_type": "execute_result"
    }
   ],
   "source": [
    "model.fit(x,y)"
   ]
  },
  {
   "cell_type": "code",
   "execution_count": 63,
   "metadata": {
    "collapsed": false
   },
   "outputs": [
    {
     "data": {
      "text/plain": [
       "array([  6.61461340e-01,  -3.07529467e+00,   4.91492864e-01,\n",
       "        -0.00000000e+00,   1.19251103e+00,  -6.74593614e+00,\n",
       "         5.31695804e+00,   9.07040711e+00,   6.77311058e-01,\n",
       "         0.00000000e+00,   2.35627882e+00,   1.91640425e+01,\n",
       "        -1.61684392e+00,   0.00000000e+00,   0.00000000e+00,\n",
       "         5.34980650e+00,   0.00000000e+00,  -5.48383752e+00,\n",
       "        -0.00000000e+00,  -2.67475242e+00,   1.81659678e+00,\n",
       "        -0.00000000e+00,   1.57554968e+01,  -5.92180122e+00,\n",
       "        -1.06187310e-01,  -4.48887835e-01,  -0.00000000e+00,\n",
       "         2.68475458e+00,   0.00000000e+00,   4.04994833e+00,\n",
       "        -7.53207329e+00,   0.00000000e+00,   0.00000000e+00,\n",
       "         5.77559208e+00,   3.92222545e+00,  -3.95302518e+00,\n",
       "        -2.60947446e+00,  -8.82210694e-01,  -0.00000000e+00,\n",
       "         9.28154062e-02,   3.27211133e+00,   0.00000000e+00,\n",
       "         8.67622398e+00,   9.75932547e-01,  -6.36433046e+00,\n",
       "         4.75622297e+01,   0.00000000e+00,   0.00000000e+00,\n",
       "        -1.21187664e+00,  -4.36299914e+00,   0.00000000e+00,\n",
       "         4.23285529e+00,  -2.64804564e+00,   0.00000000e+00,\n",
       "         8.84118472e+00,   3.32410563e+00,   6.20162317e+00,\n",
       "         4.06326106e+01,   0.00000000e+00,   5.03369738e+00,\n",
       "        -4.49485198e-01,  -1.30442295e+00,  -2.83328826e+00,\n",
       "        -2.17883685e+00,  -0.00000000e+00,   0.00000000e+00,\n",
       "         0.00000000e+00,  -7.29958706e+00,  -0.00000000e+00,\n",
       "        -2.62164497e+00,   0.00000000e+00,  -0.00000000e+00,\n",
       "        -0.00000000e+00,   0.00000000e+00,  -2.20356948e+00,\n",
       "        -0.00000000e+00,  -0.00000000e+00,  -0.00000000e+00,\n",
       "        -0.00000000e+00,  -0.00000000e+00,  -0.00000000e+00,\n",
       "         7.37163207e+01,   0.00000000e+00,   0.00000000e+00,\n",
       "        -0.00000000e+00,  -0.00000000e+00,  -0.00000000e+00,\n",
       "        -0.00000000e+00,   0.00000000e+00,   0.00000000e+00,\n",
       "         0.00000000e+00,   0.00000000e+00,  -0.00000000e+00,\n",
       "        -1.90552304e+00,   0.00000000e+00,   0.00000000e+00,\n",
       "         0.00000000e+00,   0.00000000e+00,   0.00000000e+00,\n",
       "         0.00000000e+00,   0.00000000e+00,   0.00000000e+00,\n",
       "         3.94264705e-02,   3.26032215e-01,  -2.46107201e-02,\n",
       "         1.19936776e+00,   8.11625866e+00,   0.00000000e+00,\n",
       "        -4.37915702e-01,  -4.90745013e+00,   0.00000000e+00,\n",
       "         0.00000000e+00,  -8.94553699e+00,  -0.00000000e+00,\n",
       "         0.00000000e+00,   0.00000000e+00,   3.76747222e+00,\n",
       "         0.00000000e+00,  -6.00050622e+00,   0.00000000e+00,\n",
       "         0.00000000e+00,  -2.36493458e+01,   0.00000000e+00,\n",
       "        -0.00000000e+00,   0.00000000e+00,  -1.07506182e+01,\n",
       "        -0.00000000e+00,  -0.00000000e+00,   0.00000000e+00])"
      ]
     },
     "execution_count": 63,
     "metadata": {},
     "output_type": "execute_result"
    }
   ],
   "source": [
    "model.coef_"
   ]
  },
  {
   "cell_type": "code",
   "execution_count": 64,
   "metadata": {
    "collapsed": true
   },
   "outputs": [],
   "source": [
    "from sklearn.cross_validation import train_test_split"
   ]
  },
  {
   "cell_type": "code",
   "execution_count": 71,
   "metadata": {
    "collapsed": true
   },
   "outputs": [],
   "source": [
    "x_train, x_test, y_train, y_test = train_test_split(x, y, test_size=.50, random_state=42)"
   ]
  },
  {
   "cell_type": "code",
   "execution_count": 73,
   "metadata": {
    "collapsed": false
   },
   "outputs": [],
   "source": [
    "model = LinearRegression()"
   ]
  },
  {
   "cell_type": "code",
   "execution_count": 74,
   "metadata": {
    "collapsed": false
   },
   "outputs": [
    {
     "data": {
      "text/plain": [
       "LinearRegression(copy_X=True, fit_intercept=True, n_jobs=1, normalize=False)"
      ]
     },
     "execution_count": 74,
     "metadata": {},
     "output_type": "execute_result"
    }
   ],
   "source": [
    "model.fit(x_train, y_train)"
   ]
  },
  {
   "cell_type": "code",
   "execution_count": 77,
   "metadata": {
    "collapsed": false
   },
   "outputs": [
    {
     "data": {
      "text/plain": [
       "<matplotlib.collections.PathCollection at 0x7f4a9e778410>"
      ]
     },
     "execution_count": 77,
     "metadata": {},
     "output_type": "execute_result"
    },
    {
     "data": {
      "image/png": "[encoded data removed]",
      "text/plain": [
       "<matplotlib.figure.Figure at 0x7f4a9e8f9f90>"
      ]
     },
     "metadata": {},
     "output_type": "display_data"
    }
   ],
   "source": [
    "plt.scatter(y_test, model.predict(x_test))"
   ]
  },
  {
   "cell_type": "code",
   "execution_count": 78,
   "metadata": {
    "collapsed": false
   },
   "outputs": [],
   "source": [
    "model = Lasso()"
   ]
  },
  {
   "cell_type": "code",
   "execution_count": null,
   "metadata": {
    "collapsed": true
   },
   "outputs": [],
   "source": [
    "model.fit(x_train,)"
   ]
  }
 ],
 "metadata": {
  "kernelspec": {
   "display_name": "Python 2",
   "language": "python",
   "name": "python2"
  },
  "language_info": {
   "codemirror_mode": {
    "name": "ipython",
    "version": 2
   },
   "file_extension": ".py",
   "mimetype": "text/x-python",
   "name": "python",
   "nbconvert_exporter": "python",
   "pygments_lexer": "ipython2",
   "version": "2.7.6"
  }
 },
 "nbformat": 4,
 "nbformat_minor": 0
}
