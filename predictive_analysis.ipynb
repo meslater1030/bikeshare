{
 "cells": [
  {
   "cell_type": "markdown",
   "metadata": {},
   "source": [
    "##Question 1:"
   ]
  },
  {
   "cell_type": "markdown",
   "metadata": {},
   "source": [
    "To start with, we'll need to compute the number of rentals per station per day. Use pandas to do that.\n"
   ]
  },
  {
   "cell_type": "code",
   "execution_count": 1,
   "metadata": {
    "collapsed": false
   },
   "outputs": [],
   "source": [
    "import pandas as pd\n",
    "import numpy as np\n",
    "import matplotlib as plt\n",
    "%matplotlib inline\n",
    "import datetime\n",
    "from pandas import DataFrame"
   ]
  },
  {
   "cell_type": "code",
   "execution_count": 2,
   "metadata": {
    "collapsed": true
   },
   "outputs": [],
   "source": [
    "stations = pd.read_table('stations.tsv')"
   ]
  },
  {
   "cell_type": "code",
   "execution_count": 3,
   "metadata": {
    "collapsed": false
   },
   "outputs": [],
   "source": [
    "usage = pd.read_table('usage_2012.tsv')"
   ]
  },
  {
   "cell_type": "code",
   "execution_count": 4,
   "metadata": {
    "collapsed": true
   },
   "outputs": [],
   "source": [
    "usage['time_start'] = pd.to_datetime(usage['time_start'])"
   ]
  },
  {
   "cell_type": "code",
   "execution_count": 5,
   "metadata": {
    "collapsed": true
   },
   "outputs": [],
   "source": [
    "usage_per_day = usage.set_index('time_start').groupby(pd.TimeGrouper('D')).size()"
   ]
  },
  {
   "cell_type": "code",
   "execution_count": 161,
   "metadata": {
    "collapsed": false
   },
   "outputs": [],
   "source": [
    "usage_per_station = usage[['station_start']].groupby('station_start').size()"
   ]
  },
  {
   "cell_type": "code",
   "execution_count": 10,
   "metadata": {
    "collapsed": false
   },
   "outputs": [],
   "source": [
    "usage_per_station_per_day = usage.groupby(['date', 'station_start']).size()"
   ]
  },
  {
   "cell_type": "markdown",
   "metadata": {},
   "source": []
  },
  {
   "cell_type": "markdown",
   "metadata": {},
   "source": []
  },
  {
   "cell_type": "code",
   "execution_count": null,
   "metadata": {
    "collapsed": false
   },
   "outputs": [],
   "source": []
  },
  {
   "cell_type": "code",
   "execution_count": 8,
   "metadata": {
    "collapsed": false
   },
   "outputs": [],
   "source": [
    "def to_date(x):\n",
    "    return str(x.month) + '/' + str(x.day) + '/' + str(x.year)"
   ]
  },
  {
   "cell_type": "code",
   "execution_count": 9,
   "metadata": {
    "collapsed": false
   },
   "outputs": [],
   "source": [
    "usage['date'] = usage['time_start'].apply(to_date)"
   ]
  },
  {
   "cell_type": "code",
   "execution_count": null,
   "metadata": {
    "collapsed": false
   },
   "outputs": [],
   "source": []
  },
  {
   "cell_type": "code",
   "execution_count": 11,
   "metadata": {
    "collapsed": true
   },
   "outputs": [],
   "source": [
    "usage_per_station_per_day = usage.groupby(['date', 'station_start']).size()"
   ]
  },
  {
   "cell_type": "code",
   "execution_count": 38,
   "metadata": {
    "collapsed": false
   },
   "outputs": [
    {
     "data": {
      "text/plain": [
       "date      station_start                                   \n",
       "1/1/2012  10th & Monroe St NE                                  10\n",
       "          10th & U St NW                                       58\n",
       "          10th St & Constitution Ave NW                        54\n",
       "          11th & H St NE                                       20\n",
       "          11th & Kenyon St NW                                  58\n",
       "          12th & Army Navy Dr                                  12\n",
       "          12th & Newton St NE                                   2\n",
       "          13th & D St NE                                       46\n",
       "          13th & H St NE                                       50\n",
       "          13th St & New York Ave NW                            10\n",
       "          14th & D St NW / Ronald Reagan Building              26\n",
       "          14th & D St SE                                       32\n",
       "          14th & G St NW                                       16\n",
       "          14th & Harvard St NW                                 80\n",
       "          14th & R St NW                                       58\n",
       "          14th & Rhode Island Ave NW                           96\n",
       "          14th & V St NW                                      108\n",
       "          14th St & Spring Rd NW                               44\n",
       "          14th St Heights / 14th & Crittenden St NW            26\n",
       "          15th & Crystal Dr                                    16\n",
       "          15th & P St NW                                      104\n",
       "          15th St & Massachusetts Ave SE                       30\n",
       "          16th & Harvard St NW                                 84\n",
       "          17th & Corcoran St NW                               120\n",
       "          17th & K St NW                                       22\n",
       "          17th & K St NW / Farragut Square                      6\n",
       "          17th & Rhode Island Ave NW                           16\n",
       "          18th & M St NW                                       50\n",
       "          18th St & Pennsylvania Ave NW                        10\n",
       "          19th & E Street NW                                   14\n",
       "                                                             ... \n",
       "9/9/2012  N Veitch  & 20th St N                                12\n",
       "          N Veitch & Key Blvd                                  11\n",
       "          New Hampshire Ave & T St NW                         182\n",
       "          New York Ave & 15th St NW                            81\n",
       "          North Capitol St & F St NW                           62\n",
       "          Ohio Dr & West Basin Dr SW / MLK & FDR Memorials    112\n",
       "          Park Rd & Holmead Pl NW                             109\n",
       "          Pennsylvania & Minnesota Ave SE                       3\n",
       "          Pentagon City Metro / 12th & S Hayes St              10\n",
       "          Potomac & Pennsylvania Ave SE                        56\n",
       "          Prince St & Union St                                 17\n",
       "          Randle Circle & Minnesota Ave SE                      2\n",
       "          Rosslyn Metro / Wilson Blvd & Ft Myer Dr             34\n",
       "          S Glebe & Potomac Ave                                18\n",
       "          S Joyce & Army Navy Dr                               13\n",
       "          Saint Asaph St & Pendleton  St                        9\n",
       "          Smithsonian / Jefferson Dr & 12th St SW             112\n",
       "          Tenleytown / Wisconsin Ave & Albemarle St NW         30\n",
       "          Thomas Circle                                       132\n",
       "          US Dept of State / Virginia Ave & 21st St NW         45\n",
       "          USDA / 12th & Independence Ave SW                    44\n",
       "          Utah St & 11th St N                                   7\n",
       "          Van Ness Metro / UDC                                 30\n",
       "          Virginia Square Metro / N Monroe St & 9th St N       20\n",
       "          Ward Circle / American University                    23\n",
       "          Washington Blvd & 10th St N                           5\n",
       "          Washington Blvd & 7th St N                            2\n",
       "          Wilson Blvd & Franklin Rd                            14\n",
       "          Wilson Blvd & N Edgewood St                          22\n",
       "          Wilson Blvd & N Oakland St                            6\n",
       "dtype: int64"
      ]
     },
     "execution_count": 38,
     "metadata": {},
     "output_type": "execute_result"
    }
   ],
   "source": [
    "usage_per_station_per_day"
   ]
  },
  {
   "cell_type": "markdown",
   "metadata": {},
   "source": [
    "we have grouped our data by day then station and the size gives us the users in that day"
   ]
  },
  {
   "cell_type": "markdown",
   "metadata": {},
   "source": [
    "2a. Our stations data has a huge number of quantitative attributes: fast_food, parking, restaurant, etc... Some of them are encoded as 0 or 1 (for absence or presence), others represent counts. To start with, run a simple linear regression where the input (x) variables are all the various station attributes and the output (y) variable is the average number of rentals per day."
   ]
  },
  {
   "cell_type": "code",
   "execution_count": 12,
   "metadata": {
    "collapsed": false
   },
   "outputs": [],
   "source": [
    "rentals_per_station = usage[['station_start']].groupby('station_start').size()"
   ]
  },
  {
   "cell_type": "code",
   "execution_count": 13,
   "metadata": {
    "collapsed": true
   },
   "outputs": [],
   "source": [
    "def get_average(x):\n",
    "    return x/366\n",
    "daily_rentals = rentals_per_station.apply(get_average)"
   ]
  },
  {
   "cell_type": "code",
   "execution_count": 16,
   "metadata": {
    "collapsed": false
   },
   "outputs": [
    {
     "data": {
      "text/plain": [
       "station_start\n",
       "10th & E St NW                   17\n",
       "10th & Monroe St NE              10\n",
       "10th & U St NW                   71\n",
       "10th St & Constitution Ave NW    55\n",
       "11th & H St NE                   35\n",
       "dtype: int64"
      ]
     },
     "execution_count": 16,
     "metadata": {},
     "output_type": "execute_result"
    }
   ],
   "source": [
    "daily_rentals.head()"
   ]
  },
  {
   "cell_type": "code",
   "execution_count": 14,
   "metadata": {
    "collapsed": true
   },
   "outputs": [],
   "source": [
    "from sklearn.linear_model import LinearRegression"
   ]
  },
  {
   "cell_type": "code",
   "execution_count": 162,
   "metadata": {
    "collapsed": true
   },
   "outputs": [],
   "source": [
    "c = DataFrame(rentals_per_station.index, columns=['station'])"
   ]
  },
  {
   "cell_type": "code",
   "execution_count": 163,
   "metadata": {
    "collapsed": false
   },
   "outputs": [],
   "source": [
    "c['rentals_per_station'] = rentals_per_station.values"
   ]
  },
  {
   "cell_type": "code",
   "execution_count": 164,
   "metadata": {
    "collapsed": true
   },
   "outputs": [],
   "source": [
    "c['station'] = rentals_per_station.index"
   ]
  },
  {
   "cell_type": "code",
   "execution_count": 165,
   "metadata": {
    "collapsed": false
   },
   "outputs": [],
   "source": [
    "merged = pd.merge(left=c, right=stations, left_on='station', right_on='station')"
   ]
  },
  {
   "cell_type": "code",
   "execution_count": 168,
   "metadata": {
    "collapsed": false
   },
   "outputs": [],
   "source": [
    "x = merged[list(merged.columns.values[8:])]"
   ]
  },
  {
   "cell_type": "code",
   "execution_count": 169,
   "metadata": {
    "collapsed": false
   },
   "outputs": [],
   "source": [
    "y = merged[list(merged.columns.values[1:2])]"
   ]
  },
  {
   "cell_type": "code",
   "execution_count": 170,
   "metadata": {
    "collapsed": false
   },
   "outputs": [],
   "source": [
    "model = LinearRegression()"
   ]
  },
  {
   "cell_type": "code",
   "execution_count": 171,
   "metadata": {
    "collapsed": false
   },
   "outputs": [
    {
     "data": {
      "text/plain": [
       "LinearRegression(copy_X=True, fit_intercept=True, n_jobs=1, normalize=False)"
      ]
     },
     "execution_count": 171,
     "metadata": {},
     "output_type": "execute_result"
    }
   ],
   "source": [
    "model.fit(x,y)"
   ]
  },
  {
   "cell_type": "code",
   "execution_count": 133,
   "metadata": {
    "collapsed": false
   },
   "outputs": [],
   "source": [
    "import matplotlib.pyplot as plt"
   ]
  },
  {
   "cell_type": "code",
   "execution_count": 172,
   "metadata": {
    "collapsed": false
   },
   "outputs": [
    {
     "data": {
      "text/plain": [
       "<matplotlib.collections.PathCollection at 0x7fdec3bf8390>"
      ]
     },
     "execution_count": 172,
     "metadata": {},
     "output_type": "execute_result"
    },
    {
     "data": {
      "image/png": "[encoded data removed]",
      "text/plain": [
       "<matplotlib.figure.Figure at 0x7fdec3c64290>"
      ]
     },
     "metadata": {},
     "output_type": "display_data"
    }
   ],
   "source": [
    "plt.scatter(y, model.predict(x))"
   ]
  },
  {
   "cell_type": "markdown",
   "metadata": {},
   "source": [
    "ta da!  'simple' linear regression"
   ]
  },
  {
   "cell_type": "markdown",
   "metadata": {},
   "source": [
    "###2b.  plot the predicted values against the acutal values and see how they compare\n",
    "look up!"
   ]
  },
  {
   "cell_type": "code",
   "execution_count": 173,
   "metadata": {
    "collapsed": false
   },
   "outputs": [
    {
     "data": {
      "text/plain": [
       "array([[  1.01084312e+03,  -3.10805349e+02,   1.20322039e+02,\n",
       "         -2.18745236e+04,  -1.09440166e+03,  -1.83958512e+03,\n",
       "          2.09113944e+03,   7.67588513e+02,   7.26435455e+01,\n",
       "         -4.32151010e+16,   5.32890813e+02,   1.80058514e+04,\n",
       "          2.05897909e+03,   7.27622946e+16,   1.32759608e+16,\n",
       "          2.17533220e+03,   2.26991166e+16,   2.57175268e+03,\n",
       "          5.23692330e+03,  -9.39484299e+02,   1.23710966e+03,\n",
       "         -1.62350449e+04,   8.70735861e+03,  -1.57911379e+04,\n",
       "         -4.51696483e+03,   2.26287583e+16,  -6.91731889e+02,\n",
       "          1.54327694e+03,  -9.76249796e+02,   2.64290407e+03,\n",
       "         -2.26287583e+16,   1.39884500e+03,   4.14669737e+02,\n",
       "          3.88009212e+03,   1.64854105e+03,   6.77893353e+02,\n",
       "         -1.35453527e+04,  -6.48731014e+03,   1.59515868e+03,\n",
       "         -1.14515658e+03,   3.76796185e+03,   2.10295521e+02,\n",
       "          5.46741794e+04,  -2.93701861e+03,  -4.23890245e+03,\n",
       "          6.59036201e+04,  -5.29503449e+02,   6.48356574e+02,\n",
       "         -2.00953639e+03,  -3.47422906e+03,   2.47642400e+04,\n",
       "          6.37261585e+03,  -3.41798776e+03,  -9.55294601e+03,\n",
       "          1.44329600e+04,   1.94606171e+03,   1.01004004e+04,\n",
       "          2.54069208e+04,   4.02435737e+03,   4.74066726e+03,\n",
       "          4.67790044e+03,  -3.43881492e+03,  -1.34312203e+03,\n",
       "         -3.81451958e+01,  -5.90969928e+03,   5.97536926e+03,\n",
       "         -1.13823241e+04,  -4.73048138e+03,  -5.21125191e+03,\n",
       "         -8.13507490e+03,   1.35280832e+04,  -2.72331156e+04,\n",
       "         -9.97944556e+03,  -1.53212972e+04,  -2.01287055e+13,\n",
       "          2.27589426e+13,  -2.63023700e+12,   4.02574111e+13,\n",
       "          6.79891144e+03,   1.49000668e+13,   5.22863871e+12,\n",
       "          3.87493114e+04,  -2.48551908e+13,  -3.23381451e+03,\n",
       "          1.43777113e+03,   3.55232281e+12,  -3.55232282e+12,\n",
       "         -6.90018387e+03,   8.95003056e+12,   3.41667873e+13,\n",
       "          9.54218455e+03,   1.95756325e+13,   6.59628025e+03,\n",
       "         -2.20459612e+04,   4.06075948e+13,   2.19975444e+13,\n",
       "          2.15142339e+13,  -3.76861452e+12,   6.59390624e+12,\n",
       "         -1.06320289e+12,   1.00678522e+13,  -3.73149815e+12,\n",
       "          2.11824134e+00,   1.39604190e+02,  -1.82068277e+02,\n",
       "          8.34785916e-01,   1.44506602e+04,  -5.20046110e-01,\n",
       "         -2.29158554e+02,  -9.50488540e+02,   2.65776977e+04,\n",
       "          5.05068996e+03,  -1.11353642e+04,  -2.97207777e+03,\n",
       "          4.93435176e+03,   0.00000000e+00,   1.68256905e+03,\n",
       "         -2.24188770e+02,   5.90992773e+02,  -1.99278176e+03,\n",
       "         -5.13259013e+02,  -3.12947792e+04,   3.56292602e+02,\n",
       "         -1.89395596e+04,  -9.56054991e+02,  -3.21014411e+03,\n",
       "         -4.99297103e+03,  -1.20243501e+04,  -6.40654294e+02]])"
      ]
     },
     "execution_count": 173,
     "metadata": {},
     "output_type": "execute_result"
    }
   ],
   "source": [
    "model.coef_"
   ]
  },
  {
   "cell_type": "markdown",
   "metadata": {},
   "source": [
    "###2c.  look at the model coefficients and see whether anything is odd\n",
    "we think it's odd that some of these numbers are very large and some are very small"
   ]
  },
  {
   "cell_type": "markdown",
   "metadata": {},
   "source": [
    "###2d.  go back and split the data between a training set and a test set"
   ]
  },
  {
   "cell_type": "code",
   "execution_count": 136,
   "metadata": {
    "collapsed": false
   },
   "outputs": [],
   "source": [
    "from sklearn.linear_model import Lasso"
   ]
  },
  {
   "cell_type": "code",
   "execution_count": 174,
   "metadata": {
    "collapsed": true
   },
   "outputs": [],
   "source": [
    "model = Lasso(alpha=0.15)"
   ]
  },
  {
   "cell_type": "code",
   "execution_count": 175,
   "metadata": {
    "collapsed": false
   },
   "outputs": [
    {
     "data": {
      "text/plain": [
       "Lasso(alpha=0.15, copy_X=True, fit_intercept=True, max_iter=1000,\n",
       "   normalize=False, positive=False, precompute=False, random_state=None,\n",
       "   selection='cyclic', tol=0.0001, warm_start=False)"
      ]
     },
     "execution_count": 175,
     "metadata": {},
     "output_type": "execute_result"
    }
   ],
   "source": [
    "model.fit(x,y)"
   ]
  },
  {
   "cell_type": "code",
   "execution_count": 176,
   "metadata": {
    "collapsed": false
   },
   "outputs": [
    {
     "data": {
      "text/plain": [
       "array([  8.34975639e+02,  -1.02917966e+02,   2.04294252e+01,\n",
       "        -2.30925050e+04,   6.87440187e+02,  -1.53824078e+03,\n",
       "         1.99832353e+03,   7.14963787e+02,  -1.31622981e+02,\n",
       "         0.00000000e+00,   9.22372074e+02,   2.52533959e+04,\n",
       "         1.62282585e+03,   0.00000000e+00,   0.00000000e+00,\n",
       "         1.87848540e+03,   0.00000000e+00,   1.63707313e+03,\n",
       "         3.22465721e+03,  -1.11124813e+03,   1.17112068e+03,\n",
       "        -1.33155630e+04,   1.02249079e+04,  -1.40049294e+04,\n",
       "        -5.60558243e+03,   1.50296369e+04,   5.67863517e+02,\n",
       "         1.10579349e+03,  -1.56908507e+03,   3.26087621e+03,\n",
       "         2.74607801e+00,  -5.10714563e+01,   1.18148245e+03,\n",
       "         4.74277193e+03,   1.75873063e+03,  -7.33039239e+02,\n",
       "        -1.24722758e+04,  -6.04279905e+03,   1.91996057e+03,\n",
       "         1.84948612e+03,   4.17060350e+03,  -2.07882442e+03,\n",
       "         5.37552563e+04,  -1.92173266e+03,  -4.68050214e+03,\n",
       "         6.57628420e+04,   4.00528301e+01,   1.81936722e+02,\n",
       "        -2.45068087e+03,  -3.33799500e+03,   2.77074816e+04,\n",
       "         2.23859042e+03,  -2.38943719e+03,  -6.94606429e+03,\n",
       "         1.21123123e+04,   3.67997018e+03,   8.55013734e+03,\n",
       "         1.96241494e+04,   5.70994173e+03,   1.93229208e+03,\n",
       "         4.46993112e+03,  -6.57291777e+03,  -1.06147819e+03,\n",
       "        -9.15328979e+03,  -9.94117601e+03,   6.28691185e+03,\n",
       "        -8.94550754e+03,  -5.94791240e+03,  -6.32315848e+03,\n",
       "        -7.34101105e+03,   1.66286277e+04,  -3.10244213e+04,\n",
       "        -6.98866816e+03,   4.19446586e+03,  -1.98588310e+03,\n",
       "         2.68031905e+04,   0.00000000e+00,  -0.00000000e+00,\n",
       "         1.30186422e+04,  -2.51152897e+02,  -1.35736832e-13,\n",
       "         3.66696173e+04,   0.00000000e+00,  -3.04889166e+03,\n",
       "         4.17454876e+03,  -3.73854052e+02,  -0.00000000e+00,\n",
       "        -3.87370546e+03,   0.00000000e+00,   0.00000000e+00,\n",
       "         1.05538874e+04,   0.00000000e+00,   5.46404676e+03,\n",
       "        -1.79390817e+04,   0.00000000e+00,   0.00000000e+00,\n",
       "         0.00000000e+00,   0.00000000e+00,   0.00000000e+00,\n",
       "         0.00000000e+00,   0.00000000e+00,   0.00000000e+00,\n",
       "         1.70685603e+01,   1.27473468e+02,  -3.95455148e+02,\n",
       "        -2.27874296e+02,   1.48535200e+04,   0.00000000e+00,\n",
       "        -1.26154334e+02,  -1.85620299e+03,   1.20897532e+04,\n",
       "         4.72512111e+03,  -1.28345758e+04,  -1.83758719e+03,\n",
       "         6.33783949e+03,   0.00000000e+00,   1.38691100e+03,\n",
       "        -3.77867140e+02,  -6.94247505e+02,  -2.20805021e+03,\n",
       "        -4.10400026e+02,  -3.39967753e+04,   5.72856850e+02,\n",
       "        -8.02251485e+03,  -8.10155607e+02,  -6.75247540e+03,\n",
       "        -7.87356966e+03,  -1.25103431e+04,   2.45999465e+03])"
      ]
     },
     "execution_count": 176,
     "metadata": {},
     "output_type": "execute_result"
    }
   ],
   "source": [
    "model.coef_"
   ]
  },
  {
   "cell_type": "code",
   "execution_count": 177,
   "metadata": {
    "collapsed": true
   },
   "outputs": [],
   "source": [
    "from sklearn.cross_validation import train_test_split"
   ]
  },
  {
   "cell_type": "code",
   "execution_count": 178,
   "metadata": {
    "collapsed": true
   },
   "outputs": [],
   "source": [
    "x_train, x_test, y_train, y_test = train_test_split(x, y, test_size=.50, random_state=42)"
   ]
  },
  {
   "cell_type": "code",
   "execution_count": 179,
   "metadata": {
    "collapsed": false
   },
   "outputs": [],
   "source": [
    "model = LinearRegression()"
   ]
  },
  {
   "cell_type": "code",
   "execution_count": 180,
   "metadata": {
    "collapsed": false
   },
   "outputs": [
    {
     "data": {
      "text/plain": [
       "LinearRegression(copy_X=True, fit_intercept=True, n_jobs=1, normalize=False)"
      ]
     },
     "execution_count": 180,
     "metadata": {},
     "output_type": "execute_result"
    }
   ],
   "source": [
    "model.fit(x_train, y_train)"
   ]
  },
  {
   "cell_type": "code",
   "execution_count": 181,
   "metadata": {
    "collapsed": false
   },
   "outputs": [
    {
     "data": {
      "text/plain": [
       "<matplotlib.collections.PathCollection at 0x7fdec39b9650>"
      ]
     },
     "execution_count": 181,
     "metadata": {},
     "output_type": "execute_result"
    },
    {
     "data": {
      "image/png": "[encoded data removed]",
      "text/plain": [
       "<matplotlib.figure.Figure at 0x7fdec46a5610>"
      ]
     },
     "metadata": {},
     "output_type": "display_data"
    }
   ],
   "source": [
    "plt.scatter(y_test, model.predict(x_test))"
   ]
  },
  {
   "cell_type": "code",
   "execution_count": 225,
   "metadata": {
    "collapsed": false
   },
   "outputs": [],
   "source": [
    "model = Lasso(alpha=1000)"
   ]
  },
  {
   "cell_type": "code",
   "execution_count": 226,
   "metadata": {
    "collapsed": false
   },
   "outputs": [
    {
     "data": {
      "text/plain": [
       "Lasso(alpha=1000, copy_X=True, fit_intercept=True, max_iter=1000,\n",
       "   normalize=False, positive=False, precompute=False, random_state=None,\n",
       "   selection='cyclic', tol=0.0001, warm_start=False)"
      ]
     },
     "execution_count": 226,
     "metadata": {},
     "output_type": "execute_result"
    }
   ],
   "source": [
    "model.fit(x_train, y_train)"
   ]
  },
  {
   "cell_type": "code",
   "execution_count": 227,
   "metadata": {
    "collapsed": false
   },
   "outputs": [
    {
     "data": {
      "text/plain": [
       "<matplotlib.collections.PathCollection at 0x7fdec2ef1c50>"
      ]
     },
     "execution_count": 227,
     "metadata": {},
     "output_type": "execute_result"
    },
    {
     "data": {
      "image/png": "[encoded data removed]",
      "text/plain": [
       "<matplotlib.figure.Figure at 0x7fdec3158910>"
      ]
     },
     "metadata": {},
     "output_type": "display_data"
    }
   ],
   "source": [
    "plt.scatter(y_test, model.predict(x_test))"
   ]
  },
  {
   "cell_type": "code",
   "execution_count": 193,
   "metadata": {
    "collapsed": false
   },
   "outputs": [
    {
     "data": {
      "text/plain": [
       "<bound method Lasso.get_params of Lasso(alpha=0.9, copy_X=True, fit_intercept=True, max_iter=1000,\n",
       "   normalize=False, positive=False, precompute=False, random_state=None,\n",
       "   selection='cyclic', tol=0.0001, warm_start=False)>"
      ]
     },
     "execution_count": 193,
     "metadata": {},
     "output_type": "execute_result"
    }
   ],
   "source": [
    "model.get_params"
   ]
  },
  {
   "cell_type": "code",
   "execution_count": 228,
   "metadata": {
    "collapsed": false
   },
   "outputs": [],
   "source": [
    "coef = model.coef_"
   ]
  },
  {
   "cell_type": "code",
   "execution_count": 213,
   "metadata": {
    "collapsed": false
   },
   "outputs": [],
   "source": [
    "column_names = list(merged.columns.values[8:])"
   ]
  },
  {
   "cell_type": "code",
   "execution_count": 229,
   "metadata": {
    "collapsed": false
   },
   "outputs": [],
   "source": [
    "all_ammenities = zip(column_names, np.round(coef))"
   ]
  },
  {
   "cell_type": "code",
   "execution_count": 230,
   "metadata": {
    "collapsed": false
   },
   "outputs": [],
   "source": [
    "ammenities = []\n",
    "for ammenity in all_ammenities:\n",
    "    if ammenity[1] < -1 or ammenity[1] > 1:\n",
    "        ammenities.append(ammenity)"
   ]
  },
  {
   "cell_type": "code",
   "execution_count": 231,
   "metadata": {
    "collapsed": false
   },
   "outputs": [
    {
     "data": {
      "text/plain": [
       "[('fast_food', -102.0),\n",
       " ('restaurant', 220.0),\n",
       " ('waste_basket', 275.0),\n",
       " ('bar', 338.0),\n",
       " ('place_of_worship', 480.0),\n",
       " ('traffic_signals', 57.0),\n",
       " ('crossing', 122.0),\n",
       " ('stop', -40.0),\n",
       " ('hotel', 916.0)]"
      ]
     },
     "execution_count": 231,
     "metadata": {},
     "output_type": "execute_result"
    }
   ],
   "source": [
    "ammenities"
   ]
  },
  {
   "cell_type": "markdown",
   "metadata": {},
   "source": [
    "list of ammenities that survive Lasso"
   ]
  },
  {
   "cell_type": "code",
   "execution_count": 234,
   "metadata": {
    "collapsed": false
   },
   "outputs": [],
   "source": [
    "model = LinearRegression()\n"
   ]
  },
  {
   "cell_type": "code",
   "execution_count": 238,
   "metadata": {
    "collapsed": false
   },
   "outputs": [],
   "source": [
    "x = x['crossing']"
   ]
  },
  {
   "cell_type": "code",
   "execution_count": 249,
   "metadata": {
    "collapsed": false
   },
   "outputs": [],
   "source": [
    "x = merged[list(merged.columns.values[-26:-25])]\n",
    "\n"
   ]
  },
  {
   "cell_type": "code",
   "execution_count": 250,
   "metadata": {
    "collapsed": false
   },
   "outputs": [
    {
     "data": {
      "text/plain": [
       "LinearRegression(copy_X=True, fit_intercept=True, n_jobs=1, normalize=False)"
      ]
     },
     "execution_count": 250,
     "metadata": {},
     "output_type": "execute_result"
    }
   ],
   "source": [
    "model.fit(x,y)"
   ]
  },
  {
   "cell_type": "code",
   "execution_count": 251,
   "metadata": {
    "collapsed": false
   },
   "outputs": [
    {
     "data": {
      "text/plain": [
       "<matplotlib.collections.PathCollection at 0x7fdebad55590>"
      ]
     },
     "execution_count": 251,
     "metadata": {},
     "output_type": "execute_result"
    },
    {
     "data": {
      "image/png": "[encoded data removed]",
      "text/plain": [
       "<matplotlib.figure.Figure at 0x7fdebae08a90>"
      ]
     },
     "metadata": {},
     "output_type": "display_data"
    }
   ],
   "source": [
    "plt.scatter(y, model.predict(x))"
   ]
  },
  {
   "cell_type": "code",
   "execution_count": null,
   "metadata": {
    "collapsed": true
   },
   "outputs": [],
   "source": []
  }
 ],
 "metadata": {
  "kernelspec": {
   "display_name": "Python 2",
   "language": "python",
   "name": "python2"
  },
  "language_info": {
   "codemirror_mode": {
    "name": "ipython",
    "version": 2
   },
   "file_extension": ".py",
   "mimetype": "text/x-python",
   "name": "python",
   "nbconvert_exporter": "python",
   "pygments_lexer": "ipython2",
   "version": "2.7.6"
  }
 },
 "nbformat": 4,
 "nbformat_minor": 0
}
