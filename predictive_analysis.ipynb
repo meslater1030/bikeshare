{
 "cells": [
  {
   "cell_type": "markdown",
   "metadata": {},
   "source": [
    "##Question 1:"
   ]
  },
  {
   "cell_type": "markdown",
   "metadata": {},
   "source": [
    "To start with, we'll need to compute the number of rentals per station per day. Use pandas to do that.\n"
   ]
  },
  {
   "cell_type": "code",
   "execution_count": 1,
   "metadata": {
    "collapsed": false
   },
   "outputs": [],
   "source": [
    "import pandas as pd\n",
    "import numpy as np\n",
    "import matplotlib as plt\n",
    "%matplotlib inline\n",
    "import datetime\n",
    "from pandas import DataFrame"
   ]
  },
  {
   "cell_type": "code",
   "execution_count": 2,
   "metadata": {
    "collapsed": true
   },
   "outputs": [],
   "source": [
    "stations = pd.read_table('stations.tsv')"
   ]
  },
  {
   "cell_type": "code",
   "execution_count": 3,
   "metadata": {
    "collapsed": false
   },
   "outputs": [],
   "source": [
    "usage = pd.read_table('usage_2012.tsv')"
   ]
  },
  {
   "cell_type": "code",
   "execution_count": 4,
   "metadata": {
    "collapsed": true
   },
   "outputs": [],
   "source": [
    "usage['time_start'] = pd.to_datetime(usage['time_start'])"
   ]
  },
  {
   "cell_type": "code",
   "execution_count": 42,
   "metadata": {
    "collapsed": true
   },
   "outputs": [],
   "source": [
    "usage_per_day = usage.set_index('time_start').groupby(pd.TimeGrouper('D')).size()"
   ]
  },
  {
   "cell_type": "code",
   "execution_count": 43,
   "metadata": {
    "collapsed": false
   },
   "outputs": [],
   "source": [
    "usage_per_station = usage[['station_start']].groupby('station_start').size()"
   ]
  },
  {
   "cell_type": "code",
   "execution_count": 33,
   "metadata": {
    "collapsed": false
   },
   "outputs": [],
   "source": [
    "usage_per_station_per_day = usage.groupby(['date', 'station_start']).size()"
   ]
  },
  {
   "cell_type": "markdown",
   "metadata": {},
   "source": []
  },
  {
   "cell_type": "markdown",
   "metadata": {},
   "source": []
  },
  {
   "cell_type": "code",
   "execution_count": 36,
   "metadata": {
    "collapsed": false
   },
   "outputs": [
    {
     "data": {
      "text/plain": [
       "date      station_start                                   \n",
       "1/1/2012  10th & Monroe St NE                                  10\n",
       "          10th & U St NW                                       58\n",
       "          10th St & Constitution Ave NW                        54\n",
       "          11th & H St NE                                       20\n",
       "          11th & Kenyon St NW                                  58\n",
       "          12th & Army Navy Dr                                  12\n",
       "          12th & Newton St NE                                   2\n",
       "          13th & D St NE                                       46\n",
       "          13th & H St NE                                       50\n",
       "          13th St & New York Ave NW                            10\n",
       "          14th & D St NW / Ronald Reagan Building              26\n",
       "          14th & D St SE                                       32\n",
       "          14th & G St NW                                       16\n",
       "          14th & Harvard St NW                                 80\n",
       "          14th & R St NW                                       58\n",
       "          14th & Rhode Island Ave NW                           96\n",
       "          14th & V St NW                                      108\n",
       "          14th St & Spring Rd NW                               44\n",
       "          14th St Heights / 14th & Crittenden St NW            26\n",
       "          15th & Crystal Dr                                    16\n",
       "          15th & P St NW                                      104\n",
       "          15th St & Massachusetts Ave SE                       30\n",
       "          16th & Harvard St NW                                 84\n",
       "          17th & Corcoran St NW                               120\n",
       "          17th & K St NW                                       22\n",
       "          17th & K St NW / Farragut Square                      6\n",
       "          17th & Rhode Island Ave NW                           16\n",
       "          18th & M St NW                                       50\n",
       "          18th St & Pennsylvania Ave NW                        10\n",
       "          19th & E Street NW                                   14\n",
       "                                                             ... \n",
       "9/9/2012  N Veitch  & 20th St N                                12\n",
       "          N Veitch & Key Blvd                                  11\n",
       "          New Hampshire Ave & T St NW                         182\n",
       "          New York Ave & 15th St NW                            81\n",
       "          North Capitol St & F St NW                           62\n",
       "          Ohio Dr & West Basin Dr SW / MLK & FDR Memorials    112\n",
       "          Park Rd & Holmead Pl NW                             109\n",
       "          Pennsylvania & Minnesota Ave SE                       3\n",
       "          Pentagon City Metro / 12th & S Hayes St              10\n",
       "          Potomac & Pennsylvania Ave SE                        56\n",
       "          Prince St & Union St                                 17\n",
       "          Randle Circle & Minnesota Ave SE                      2\n",
       "          Rosslyn Metro / Wilson Blvd & Ft Myer Dr             34\n",
       "          S Glebe & Potomac Ave                                18\n",
       "          S Joyce & Army Navy Dr                               13\n",
       "          Saint Asaph St & Pendleton  St                        9\n",
       "          Smithsonian / Jefferson Dr & 12th St SW             112\n",
       "          Tenleytown / Wisconsin Ave & Albemarle St NW         30\n",
       "          Thomas Circle                                       132\n",
       "          US Dept of State / Virginia Ave & 21st St NW         45\n",
       "          USDA / 12th & Independence Ave SW                    44\n",
       "          Utah St & 11th St N                                   7\n",
       "          Van Ness Metro / UDC                                 30\n",
       "          Virginia Square Metro / N Monroe St & 9th St N       20\n",
       "          Ward Circle / American University                    23\n",
       "          Washington Blvd & 10th St N                           5\n",
       "          Washington Blvd & 7th St N                            2\n",
       "          Wilson Blvd & Franklin Rd                            14\n",
       "          Wilson Blvd & N Edgewood St                          22\n",
       "          Wilson Blvd & N Oakland St                            6\n",
       "dtype: int64"
      ]
     },
     "execution_count": 36,
     "metadata": {},
     "output_type": "execute_result"
    }
   ],
   "source": [
    "usage_per_station_per_day"
   ]
  },
  {
   "cell_type": "code",
   "execution_count": 27,
   "metadata": {
    "collapsed": false
   },
   "outputs": [],
   "source": [
    "def to_date(x):\n",
    "    return str(x.month) + '/' + str(x.day) + '/' + str(x.year)"
   ]
  },
  {
   "cell_type": "code",
   "execution_count": 28,
   "metadata": {
    "collapsed": false
   },
   "outputs": [],
   "source": [
    "usage['date'] = usage['time_start'].apply(to_date)"
   ]
  },
  {
   "cell_type": "code",
   "execution_count": 29,
   "metadata": {
    "collapsed": false
   },
   "outputs": [
    {
     "data": {
      "text/plain": [
       "<bound method Series.first of 0            1/1/2012\n",
       "1            1/1/2012\n",
       "2            1/1/2012\n",
       "3            1/1/2012\n",
       "4            1/1/2012\n",
       "5            1/1/2012\n",
       "6            1/1/2012\n",
       "7            1/1/2012\n",
       "8            1/1/2012\n",
       "9            1/1/2012\n",
       "10           1/1/2012\n",
       "11           1/1/2012\n",
       "12           1/1/2012\n",
       "13           1/1/2012\n",
       "14           1/1/2012\n",
       "15           1/1/2012\n",
       "16           1/1/2012\n",
       "17           1/1/2012\n",
       "18           1/1/2012\n",
       "19           1/1/2012\n",
       "20           1/1/2012\n",
       "21           1/1/2012\n",
       "22           1/1/2012\n",
       "23           1/1/2012\n",
       "24           1/1/2012\n",
       "25           1/1/2012\n",
       "26           1/1/2012\n",
       "27           1/1/2012\n",
       "28           1/1/2012\n",
       "29           1/1/2012\n",
       "              ...    \n",
       "2412494    12/31/2012\n",
       "2412495    12/31/2012\n",
       "2412496    12/31/2012\n",
       "2412497    12/31/2012\n",
       "2412498    12/31/2012\n",
       "2412499    12/31/2012\n",
       "2412500    12/31/2012\n",
       "2412501    12/31/2012\n",
       "2412502    12/31/2012\n",
       "2412503    12/31/2012\n",
       "2412504    12/31/2012\n",
       "2412505    12/31/2012\n",
       "2412506    12/31/2012\n",
       "2412507    12/31/2012\n",
       "2412508    12/31/2012\n",
       "2412509    12/31/2012\n",
       "2412510    12/31/2012\n",
       "2412511    12/31/2012\n",
       "2412512    12/31/2012\n",
       "2412513    12/31/2012\n",
       "2412514    12/31/2012\n",
       "2412515    12/31/2012\n",
       "2412516    12/31/2012\n",
       "2412517    12/31/2012\n",
       "2412518    12/31/2012\n",
       "2412519    12/31/2012\n",
       "2412520    12/31/2012\n",
       "2412521    12/31/2012\n",
       "2412522    12/31/2012\n",
       "2412523    12/31/2012\n",
       "Name: date, dtype: object>"
      ]
     },
     "execution_count": 29,
     "metadata": {},
     "output_type": "execute_result"
    }
   ],
   "source": [
    "usage['date'].first"
   ]
  },
  {
   "cell_type": "code",
   "execution_count": 37,
   "metadata": {
    "collapsed": true
   },
   "outputs": [],
   "source": [
    "usage_per_station_per_day = usage.groupby(['date', 'station_start']).size()"
   ]
  },
  {
   "cell_type": "code",
   "execution_count": 38,
   "metadata": {
    "collapsed": false
   },
   "outputs": [
    {
     "data": {
      "text/plain": [
       "date      station_start                                   \n",
       "1/1/2012  10th & Monroe St NE                                  10\n",
       "          10th & U St NW                                       58\n",
       "          10th St & Constitution Ave NW                        54\n",
       "          11th & H St NE                                       20\n",
       "          11th & Kenyon St NW                                  58\n",
       "          12th & Army Navy Dr                                  12\n",
       "          12th & Newton St NE                                   2\n",
       "          13th & D St NE                                       46\n",
       "          13th & H St NE                                       50\n",
       "          13th St & New York Ave NW                            10\n",
       "          14th & D St NW / Ronald Reagan Building              26\n",
       "          14th & D St SE                                       32\n",
       "          14th & G St NW                                       16\n",
       "          14th & Harvard St NW                                 80\n",
       "          14th & R St NW                                       58\n",
       "          14th & Rhode Island Ave NW                           96\n",
       "          14th & V St NW                                      108\n",
       "          14th St & Spring Rd NW                               44\n",
       "          14th St Heights / 14th & Crittenden St NW            26\n",
       "          15th & Crystal Dr                                    16\n",
       "          15th & P St NW                                      104\n",
       "          15th St & Massachusetts Ave SE                       30\n",
       "          16th & Harvard St NW                                 84\n",
       "          17th & Corcoran St NW                               120\n",
       "          17th & K St NW                                       22\n",
       "          17th & K St NW / Farragut Square                      6\n",
       "          17th & Rhode Island Ave NW                           16\n",
       "          18th & M St NW                                       50\n",
       "          18th St & Pennsylvania Ave NW                        10\n",
       "          19th & E Street NW                                   14\n",
       "                                                             ... \n",
       "9/9/2012  N Veitch  & 20th St N                                12\n",
       "          N Veitch & Key Blvd                                  11\n",
       "          New Hampshire Ave & T St NW                         182\n",
       "          New York Ave & 15th St NW                            81\n",
       "          North Capitol St & F St NW                           62\n",
       "          Ohio Dr & West Basin Dr SW / MLK & FDR Memorials    112\n",
       "          Park Rd & Holmead Pl NW                             109\n",
       "          Pennsylvania & Minnesota Ave SE                       3\n",
       "          Pentagon City Metro / 12th & S Hayes St              10\n",
       "          Potomac & Pennsylvania Ave SE                        56\n",
       "          Prince St & Union St                                 17\n",
       "          Randle Circle & Minnesota Ave SE                      2\n",
       "          Rosslyn Metro / Wilson Blvd & Ft Myer Dr             34\n",
       "          S Glebe & Potomac Ave                                18\n",
       "          S Joyce & Army Navy Dr                               13\n",
       "          Saint Asaph St & Pendleton  St                        9\n",
       "          Smithsonian / Jefferson Dr & 12th St SW             112\n",
       "          Tenleytown / Wisconsin Ave & Albemarle St NW         30\n",
       "          Thomas Circle                                       132\n",
       "          US Dept of State / Virginia Ave & 21st St NW         45\n",
       "          USDA / 12th & Independence Ave SW                    44\n",
       "          Utah St & 11th St N                                   7\n",
       "          Van Ness Metro / UDC                                 30\n",
       "          Virginia Square Metro / N Monroe St & 9th St N       20\n",
       "          Ward Circle / American University                    23\n",
       "          Washington Blvd & 10th St N                           5\n",
       "          Washington Blvd & 7th St N                            2\n",
       "          Wilson Blvd & Franklin Rd                            14\n",
       "          Wilson Blvd & N Edgewood St                          22\n",
       "          Wilson Blvd & N Oakland St                            6\n",
       "dtype: int64"
      ]
     },
     "execution_count": 38,
     "metadata": {},
     "output_type": "execute_result"
    }
   ],
   "source": [
    "usage_per_station_per_day"
   ]
  },
  {
   "cell_type": "markdown",
   "metadata": {},
   "source": [
    "we have grouped our data by day then station and the size gives us the users in that day"
   ]
  },
  {
   "cell_type": "markdown",
   "metadata": {},
   "source": [
    "2a. Our stations data has a huge number of quantitative attributes: fast_food, parking, restaurant, etc... Some of them are encoded as 0 or 1 (for absence or presence), others represent counts. To start with, run a simple linear regression where the input (x) variables are all the various station attributes and the output (y) variable is the average number of rentals per day."
   ]
  },
  {
   "cell_type": "code",
   "execution_count": 42,
   "metadata": {
    "collapsed": false
   },
   "outputs": [],
   "source": [
    "rentals_per_station = usage[['station_start']].groupby('station_start').size()"
   ]
  },
  {
   "cell_type": "code",
   "execution_count": 43,
   "metadata": {
    "collapsed": true
   },
   "outputs": [],
   "source": [
    "def get_average(x):\n",
    "    return x/366\n",
    "daily_rentals = rentals_per_station.apply(get_average)"
   ]
  },
  {
   "cell_type": "code",
   "execution_count": 44,
   "metadata": {
    "collapsed": false
   },
   "outputs": [
    {
     "data": {
      "text/plain": [
       "station_start\n",
       "10th & E St NW                   17\n",
       "10th & Monroe St NE              10\n",
       "10th & U St NW                   71\n",
       "10th St & Constitution Ave NW    55\n",
       "11th & H St NE                   35\n",
       "dtype: int64"
      ]
     },
     "execution_count": 44,
     "metadata": {},
     "output_type": "execute_result"
    }
   ],
   "source": [
    "daily_rentals.head()"
   ]
  },
  {
   "cell_type": "code",
   "execution_count": 45,
   "metadata": {
    "collapsed": true
   },
   "outputs": [],
   "source": [
    "from sklearn.linear_model import LinearRegression"
   ]
  },
  {
   "cell_type": "code",
   "execution_count": 47,
   "metadata": {
    "collapsed": true
   },
   "outputs": [],
   "source": [
    "stations_columns = list(stations.columns.values)"
   ]
  },
  {
   "cell_type": "code",
   "execution_count": 71,
   "metadata": {
    "collapsed": false
   },
   "outputs": [],
   "source": [
    "stations['cool_attributes'] = stations[stations_columns[7:]].sum(axis=1)"
   ]
  },
  {
   "cell_type": "code",
   "execution_count": 52,
   "metadata": {
    "collapsed": true
   },
   "outputs": [],
   "source": [
    "y = daily_rentals"
   ]
  },
  {
   "cell_type": "code",
   "execution_count": 101,
   "metadata": {
    "collapsed": false
   },
   "outputs": [],
   "source": [
    "x = stations[list(stations.columns[7:])]"
   ]
  },
  {
   "cell_type": "code",
   "execution_count": 105,
   "metadata": {
    "collapsed": false
   },
   "outputs": [],
   "source": [
    "model = LinearRegression()"
   ]
  },
  {
   "cell_type": "code",
   "execution_count": 106,
   "metadata": {
    "collapsed": false
   },
   "outputs": [
    {
     "ename": "ValueError",
     "evalue": "Found arrays with inconsistent numbers of samples: [185 347]",
     "output_type": "error",
     "traceback": [
      "\u001b[1;31m---------------------------------------------------------------------------\u001b[0m",
      "\u001b[1;31mValueError\u001b[0m                                Traceback (most recent call last)",
      "\u001b[1;32m<ipython-input-106-4d663676ff67>\u001b[0m in \u001b[0;36m<module>\u001b[1;34m()\u001b[0m\n\u001b[1;32m----> 1\u001b[1;33m \u001b[0mmodel\u001b[0m\u001b[1;33m.\u001b[0m\u001b[0mfit\u001b[0m\u001b[1;33m(\u001b[0m\u001b[0mx\u001b[0m\u001b[1;33m,\u001b[0m\u001b[0my\u001b[0m\u001b[1;33m)\u001b[0m\u001b[1;33m\u001b[0m\u001b[0m\n\u001b[0m",
      "\u001b[1;32m/home/meslater/projects/data-science/local/lib/python2.7/site-packages/sklearn/linear_model/base.pyc\u001b[0m in \u001b[0;36mfit\u001b[1;34m(self, X, y, n_jobs)\u001b[0m\n\u001b[0;32m    374\u001b[0m             \u001b[0mn_jobs_\u001b[0m \u001b[1;33m=\u001b[0m \u001b[0mself\u001b[0m\u001b[1;33m.\u001b[0m\u001b[0mn_jobs\u001b[0m\u001b[1;33m\u001b[0m\u001b[0m\n\u001b[0;32m    375\u001b[0m         X, y = check_X_y(X, y, accept_sparse=['csr', 'csc', 'coo'],\n\u001b[1;32m--> 376\u001b[1;33m                          y_numeric=True, multi_output=True)\n\u001b[0m\u001b[0;32m    377\u001b[0m \u001b[1;33m\u001b[0m\u001b[0m\n\u001b[0;32m    378\u001b[0m         X, y, X_mean, y_mean, X_std = self._center_data(\n",
      "\u001b[1;32m/home/meslater/projects/data-science/local/lib/python2.7/site-packages/sklearn/utils/validation.pyc\u001b[0m in \u001b[0;36mcheck_X_y\u001b[1;34m(X, y, accept_sparse, dtype, order, copy, force_all_finite, ensure_2d, allow_nd, multi_output, ensure_min_samples, ensure_min_features, y_numeric)\u001b[0m\n\u001b[0;32m    452\u001b[0m         \u001b[0my\u001b[0m \u001b[1;33m=\u001b[0m \u001b[0my\u001b[0m\u001b[1;33m.\u001b[0m\u001b[0mastype\u001b[0m\u001b[1;33m(\u001b[0m\u001b[0mnp\u001b[0m\u001b[1;33m.\u001b[0m\u001b[0mfloat64\u001b[0m\u001b[1;33m)\u001b[0m\u001b[1;33m\u001b[0m\u001b[0m\n\u001b[0;32m    453\u001b[0m \u001b[1;33m\u001b[0m\u001b[0m\n\u001b[1;32m--> 454\u001b[1;33m     \u001b[0mcheck_consistent_length\u001b[0m\u001b[1;33m(\u001b[0m\u001b[0mX\u001b[0m\u001b[1;33m,\u001b[0m \u001b[0my\u001b[0m\u001b[1;33m)\u001b[0m\u001b[1;33m\u001b[0m\u001b[0m\n\u001b[0m\u001b[0;32m    455\u001b[0m \u001b[1;33m\u001b[0m\u001b[0m\n\u001b[0;32m    456\u001b[0m     \u001b[1;32mreturn\u001b[0m \u001b[0mX\u001b[0m\u001b[1;33m,\u001b[0m \u001b[0my\u001b[0m\u001b[1;33m\u001b[0m\u001b[0m\n",
      "\u001b[1;32m/home/meslater/projects/data-science/local/lib/python2.7/site-packages/sklearn/utils/validation.pyc\u001b[0m in \u001b[0;36mcheck_consistent_length\u001b[1;34m(*arrays)\u001b[0m\n\u001b[0;32m    172\u001b[0m     \u001b[1;32mif\u001b[0m \u001b[0mlen\u001b[0m\u001b[1;33m(\u001b[0m\u001b[0muniques\u001b[0m\u001b[1;33m)\u001b[0m \u001b[1;33m>\u001b[0m \u001b[1;36m1\u001b[0m\u001b[1;33m:\u001b[0m\u001b[1;33m\u001b[0m\u001b[0m\n\u001b[0;32m    173\u001b[0m         raise ValueError(\"Found arrays with inconsistent numbers of samples: \"\n\u001b[1;32m--> 174\u001b[1;33m                          \"%s\" % str(uniques))\n\u001b[0m\u001b[0;32m    175\u001b[0m \u001b[1;33m\u001b[0m\u001b[0m\n\u001b[0;32m    176\u001b[0m \u001b[1;33m\u001b[0m\u001b[0m\n",
      "\u001b[1;31mValueError\u001b[0m: Found arrays with inconsistent numbers of samples: [185 347]"
     ]
    }
   ],
   "source": [
    "model.fit(x,y)"
   ]
  },
  {
   "cell_type": "code",
   "execution_count": 107,
   "metadata": {
    "collapsed": false
   },
   "outputs": [
    {
     "data": {
      "text/plain": [
       "185"
      ]
     },
     "execution_count": 107,
     "metadata": {},
     "output_type": "execute_result"
    }
   ],
   "source": [
    "len(y)"
   ]
  },
  {
   "cell_type": "code",
   "execution_count": 108,
   "metadata": {
    "collapsed": false
   },
   "outputs": [
    {
     "data": {
      "text/plain": [
       "347"
      ]
     },
     "execution_count": 108,
     "metadata": {},
     "output_type": "execute_result"
    }
   ],
   "source": [
    "len(x)"
   ]
  },
  {
   "cell_type": "code",
   "execution_count": null,
   "metadata": {
    "collapsed": false
   },
   "outputs": [],
   "source": []
  },
  {
   "cell_type": "code",
   "execution_count": null,
   "metadata": {
    "collapsed": true
   },
   "outputs": [],
   "source": []
  }
 ],
 "metadata": {
  "kernelspec": {
   "display_name": "Python 2",
   "language": "python",
   "name": "python2"
  },
  "language_info": {
   "codemirror_mode": {
    "name": "ipython",
    "version": 2
   },
   "file_extension": ".py",
   "mimetype": "text/x-python",
   "name": "python",
   "nbconvert_exporter": "python",
   "pygments_lexer": "ipython2",
   "version": "2.7.6"
  }
 },
 "nbformat": 4,
 "nbformat_minor": 0
}
