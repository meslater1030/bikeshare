{
 "cells": [
  {
   "cell_type": "markdown",
   "metadata": {},
   "source": [
    "##Question 1:"
   ]
  },
  {
   "cell_type": "markdown",
   "metadata": {},
   "source": [
    "To start with, we'll need to compute the number of rentals per station per day. Use pandas to do that.\n"
   ]
  },
  {
   "cell_type": "code",
   "execution_count": 2,
   "metadata": {
    "collapsed": false
   },
   "outputs": [],
   "source": [
    "import pandas as pd\n",
    "import numpy as np\n",
    "import matplotlib as plt"
   ]
  },
  {
   "cell_type": "code",
   "execution_count": 3,
   "metadata": {
    "collapsed": true
   },
   "outputs": [],
   "source": [
    "stations = pd.read_table('stations.tsv')"
   ]
  },
  {
   "cell_type": "code",
   "execution_count": 4,
   "metadata": {
    "collapsed": true
   },
   "outputs": [],
   "source": [
    "usage = pd.read_table('usage_2012.tsv')"
   ]
  },
  {
   "cell_type": "code",
   "execution_count": 5,
   "metadata": {
    "collapsed": true
   },
   "outputs": [],
   "source": [
    "usage_station = pd.merge(usage, stations, left_on='station_start', right_on='station', how='outer')"
   ]
  },
  {
   "cell_type": "code",
   "execution_count": 6,
   "metadata": {
    "collapsed": true
   },
   "outputs": [],
   "source": [
    "rentals_per_station = usage_station[['station', 'lat', 'long']].groupby('station').size()"
   ]
  },
  {
   "cell_type": "code",
   "execution_count": 7,
   "metadata": {
    "collapsed": true
   },
   "outputs": [],
   "source": [
    "def get_average(x):\n",
    "    return x/366\n",
    "daily_rentals = rentals_per_station.apply(get_average)"
   ]
  },
  {
   "cell_type": "code",
   "execution_count": 8,
   "metadata": {
    "collapsed": false
   },
   "outputs": [
    {
     "data": {
      "text/plain": [
       "station\n",
       "10th & E St NW                                                17\n",
       "10th & Florida Ave NW                                          0\n",
       "10th & Monroe St NE                                           10\n",
       "10th & U St NW                                                71\n",
       "10th St & Constitution Ave NW                                 55\n",
       "11th & F St NW                                                 0\n",
       "11th & H St NE                                                35\n",
       "11th & K St NW                                                 0\n",
       "11th & Kenyon St NW                                           61\n",
       "11th & M St NW                                                 0\n",
       "12th & Army Navy Dr                                           10\n",
       "12th & Irving St NE                                            0\n",
       "12th & L St NW                                                23\n",
       "12th & Newton St NE                                            3\n",
       "12th & U St NW                                                 0\n",
       "13th & D St NE                                                52\n",
       "13th & H St NE                                                42\n",
       "13th St & Eastern Ave                                          0\n",
       "13th St & New York Ave NW                                     53\n",
       "14th & Belmont St NW                                           0\n",
       "14th & D St NW / Ronald Reagan Building                       51\n",
       "14th & D St SE                                                33\n",
       "14th & G St NW                                                53\n",
       "14th & Harvard St NW                                          71\n",
       "14th & R St NW                                                68\n",
       "14th & Rhode Island Ave NW                                    86\n",
       "14th & Upshur St NW                                            0\n",
       "14th & V St NW                                               109\n",
       "14th St & Colorado Ave NW                                      0\n",
       "14th St & New York Ave NW                                      0\n",
       "                                                            ... \n",
       "Shady Grove Metro West                                         0\n",
       "Shirlington Transit Center / S Quincy & Randolph St            0\n",
       "Silver Spring Metro/Colesville Rd & Wayne Ave                  0\n",
       "Smithsonian / Jefferson Dr & 12th St SW                       47\n",
       "Spring St & Second Ave                                         0\n",
       "TJ Cmty Ctr / 2nd St & S Old Glebe Rd                          0\n",
       "Taft St & E Gude Dr                                            0\n",
       "Takoma Metro                                                   0\n",
       "Tenleytown / Wisconsin Ave & Albemarle St NW                  27\n",
       "Thomas Circle                                                109\n",
       "Traville Gateway Dr & Gudelsky Dr                              0\n",
       "US Dept of State / Virginia Ave & 21st St NW                  49\n",
       "USDA / 12th & Independence Ave SW                             56\n",
       "Union Market/6th St & Neal Pl NE                               0\n",
       "Utah St & 11th St N                                            2\n",
       "Van Ness Metro / UDC                                          24\n",
       "Veterans Pl & Pershing Dr                                      0\n",
       "Virginia Square Metro / N Monroe St & 9th St N                12\n",
       "Walter Reed Community Center / Walter Reed Dr & 16th St S      0\n",
       "Ward Circle / American University                             17\n",
       "Washington & Independence Ave SW/HHS                           0\n",
       "Washington Adventist U / Flower Ave & Division St              0\n",
       "Washington Blvd & 10th St N                                    3\n",
       "Washington Blvd & 7th St N                                     2\n",
       "Washington Blvd & Walter Reed Dr                               0\n",
       "Wilson Blvd & Franklin Rd                                     10\n",
       "Wilson Blvd & N Edgewood St                                    7\n",
       "Wilson Blvd & N Oakland St                                     5\n",
       "Wilson Blvd & N Uhle St                                        0\n",
       "Wisconsin Ave & O St NW                                        0\n",
       "dtype: int64"
      ]
     },
     "execution_count": 8,
     "metadata": {},
     "output_type": "execute_result"
    }
   ],
   "source": [
    "daily_rentals"
   ]
  },
  {
   "cell_type": "markdown",
   "metadata": {},
   "source": [
    "ta da!  Average daily rentals per station"
   ]
  },
  {
   "cell_type": "markdown",
   "metadata": {},
   "source": [
    "##Question 2:\n",
    "a. Our stations data has a huge number of quantitative attributes: fast_food, parking, restaurant, etc... Some of them are encoded as 0 or 1 (for absence or presence), others represent counts. To start with, run a simple linear regression where the input (x) variables are all the various station attributes and the output (y) variable is the average number of rentals per day.\n",
    "\n",
    "b. Plot the predicted values (model.predict(x)) against the actual values and see how they compare.\n",
    "\n",
    "c. In this case, there are 129 input variables and only 185 rows which means we're very likely to overfit. Look at the model coefficients and see if anything jumps out as odd.\n",
    "\n",
    "d. Go back and split the data into a training set and a test set. Train the model on the training set and evaluate it on the test set. How does it do?"
   ]
  },
  {
   "cell_type": "code",
   "execution_count": 10,
   "metadata": {
    "collapsed": false
   },
   "outputs": [
    {
     "ename": "ImportError",
     "evalue": "No module named scipy",
     "output_type": "error",
     "traceback": [
      "\u001b[1;31m---------------------------------------------------------------------------\u001b[0m",
      "\u001b[1;31mImportError\u001b[0m                               Traceback (most recent call last)",
      "\u001b[1;32m<ipython-input-10-9436dcd63a89>\u001b[0m in \u001b[0;36m<module>\u001b[1;34m()\u001b[0m\n\u001b[1;32m----> 1\u001b[1;33m \u001b[1;32mfrom\u001b[0m \u001b[0msklearn\u001b[0m\u001b[1;33m.\u001b[0m\u001b[0mlinear_model\u001b[0m \u001b[1;32mimport\u001b[0m \u001b[0mLinearRegression\u001b[0m\u001b[1;33m\u001b[0m\u001b[0m\n\u001b[0m",
      "\u001b[1;32m/home/meslater/projects/data-science/local/lib/python2.7/site-packages/sklearn/__init__.py\u001b[0m in \u001b[0;36m<module>\u001b[1;34m()\u001b[0m\n\u001b[0;32m     55\u001b[0m \u001b[1;32melse\u001b[0m\u001b[1;33m:\u001b[0m\u001b[1;33m\u001b[0m\u001b[0m\n\u001b[0;32m     56\u001b[0m     \u001b[1;32mfrom\u001b[0m \u001b[1;33m.\u001b[0m \u001b[1;32mimport\u001b[0m \u001b[0m__check_build\u001b[0m\u001b[1;33m\u001b[0m\u001b[0m\n\u001b[1;32m---> 57\u001b[1;33m     \u001b[1;32mfrom\u001b[0m \u001b[1;33m.\u001b[0m\u001b[0mbase\u001b[0m \u001b[1;32mimport\u001b[0m \u001b[0mclone\u001b[0m\u001b[1;33m\u001b[0m\u001b[0m\n\u001b[0m\u001b[0;32m     58\u001b[0m     \u001b[0m__check_build\u001b[0m  \u001b[1;31m# avoid flakes unused variable error\u001b[0m\u001b[1;33m\u001b[0m\u001b[0m\n\u001b[0;32m     59\u001b[0m \u001b[1;33m\u001b[0m\u001b[0m\n",
      "\u001b[1;32m/home/meslater/projects/data-science/local/lib/python2.7/site-packages/sklearn/base.py\u001b[0m in \u001b[0;36m<module>\u001b[1;34m()\u001b[0m\n\u001b[0;32m      8\u001b[0m \u001b[1;33m\u001b[0m\u001b[0m\n\u001b[0;32m      9\u001b[0m \u001b[1;32mimport\u001b[0m \u001b[0mnumpy\u001b[0m \u001b[1;32mas\u001b[0m \u001b[0mnp\u001b[0m\u001b[1;33m\u001b[0m\u001b[0m\n\u001b[1;32m---> 10\u001b[1;33m \u001b[1;32mfrom\u001b[0m \u001b[0mscipy\u001b[0m \u001b[1;32mimport\u001b[0m \u001b[0msparse\u001b[0m\u001b[1;33m\u001b[0m\u001b[0m\n\u001b[0m\u001b[0;32m     11\u001b[0m \u001b[1;32mfrom\u001b[0m \u001b[1;33m.\u001b[0m\u001b[0mexternals\u001b[0m \u001b[1;32mimport\u001b[0m \u001b[0msix\u001b[0m\u001b[1;33m\u001b[0m\u001b[0m\n\u001b[0;32m     12\u001b[0m \u001b[1;33m\u001b[0m\u001b[0m\n",
      "\u001b[1;31mImportError\u001b[0m: No module named scipy"
     ]
    }
   ],
   "source": [
    "from sklearn.linear_model import LinearRegression"
   ]
  },
  {
   "cell_type": "code",
   "execution_count": null,
   "metadata": {
    "collapsed": true
   },
   "outputs": [],
   "source": []
  }
 ],
 "metadata": {
  "kernelspec": {
   "display_name": "Python 2",
   "language": "python",
   "name": "python2"
  },
  "language_info": {
   "codemirror_mode": {
    "name": "ipython",
    "version": 2
   },
   "file_extension": ".py",
   "mimetype": "text/x-python",
   "name": "python",
   "nbconvert_exporter": "python",
   "pygments_lexer": "ipython2",
   "version": "2.7.6"
  }
 },
 "nbformat": 4,
 "nbformat_minor": 0
}
